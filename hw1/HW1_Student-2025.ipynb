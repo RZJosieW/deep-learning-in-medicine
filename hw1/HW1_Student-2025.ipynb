{
 "cells": [
  {
   "cell_type": "markdown",
   "id": "c1055fc4-4650-41e7-9680-cfa9ccce9b3f",
   "metadata": {},
   "source": [
    "# Homework 1\n",
    "## Deep Learning in Medicine, Spring 2025 (BMSC-GA 4493, BMIN-GA 3007)"
   ]
  },
  {
   "cell_type": "markdown",
   "id": "f601534a-412b-48f9-b0da-212190b84437",
   "metadata": {},
   "source": [
    "**Learning Objectives**:\n",
    "\n",
    "1. Basic Math Revision.\n",
    "2. Introduction to Machine Learning.\n",
    "4. Logistic Regression Model.\n",
    "5. Multilayer Perceptron Model.\n",
    "\n",
    "**Instruction** \n",
    "\n",
    "1. If you need to write mathematical terms, you can type your answeres in a Markdown Cell via LaTex. See: <a href=\"https://stackoverflow.com/questions/13208286/how-to-write-latex-in-ipython-notebook\">here</a> if you have issues with writing equations. To see basic LaTex notation see: <a href=\"https://en.wikibooks.org/wiki/LaTeX/Mathematics\"> here </a>.\n",
    "\n",
    "2. Upload and Submit your final jupyter notebook file on <a href='https://brightspace.nyu.edu/d2l/home/427921'>Brightspace</a>\n",
    "\n",
    "3. **Deadline: Thursday Feb 13th 2025**\n",
    "\n",
    "4. ***HW submission instructions:*** Students should submit a zipped folder named ***netid***_hw***x*** where x is the homework number. The submission should consist of jupyter notebook with all the plots and expected outputs clearly visible in it. The zipped folder should also contain the data files. We should be able to run your ipynb without making directory changes. Not following the protocol might lead to deduction of scores."
   ]
  },
  {
   "cell_type": "markdown",
   "id": "c39cca2d-dc19-404e-bd0e-ab3d99d5ae29",
   "metadata": {},
   "source": [
    "---\n",
    "## Question 1: Math and Machine Learning Revision (16 points)\n",
    "### Take derivatives (partial derivatives when needed) of functions."
   ]
  },
  {
   "cell_type": "markdown",
   "id": "304626b4-b3b1-407c-84e6-95d0903309fd",
   "metadata": {},
   "source": [
    "### 1.1 (2 point)\n",
    "$f(x) = \\frac{1}{\\sqrt{5-x}}$"
   ]
  },
  {
   "cell_type": "markdown",
   "id": "81715b6b-2fa5-40f9-ace2-018c5d65492c",
   "metadata": {
    "jp-MarkdownHeadingCollapsed": true
   },
   "source": [
    "### 1.2 (2 point)\n",
    "$f(x) = e^xx^4$"
   ]
  },
  {
   "cell_type": "markdown",
   "id": "f70df4f8-d4ad-4f47-b20a-f14c85f61172",
   "metadata": {},
   "source": [
    "### 1.3 (2 point)\n",
    "$f(x) = \\frac{e^x + \\sin x}{1+\\log x}$"
   ]
  },
  {
   "cell_type": "markdown",
   "id": "bf216a28-0dd6-44d9-bd8b-14740df6cb60",
   "metadata": {},
   "source": [
    "### 1.4 (2 point)\n",
    "$f(x) = \\tanh x$"
   ]
  },
  {
   "cell_type": "markdown",
   "id": "462b161c-2f49-4974-970f-42e7e06ef186",
   "metadata": {},
   "source": [
    "### 1.5 (2 point)\n",
    "$f(A,X) = \\sum_{i=1}^5 \\ln (\\frac{1}{a_ix_i^3})$  \n",
    "where $A = (a_1, a_2, a_3, a_4, a_5)$ and $X = (x_1, x_2, x_3, x_4, x_5)$ (You can give expression of $\\frac{d}{dx_i} f(A,X)$ and $\\frac{d}{da_i} f(A,X)$)"
   ]
  },
  {
   "cell_type": "markdown",
   "id": "bcabd235-442f-48cc-8794-901a36009112",
   "metadata": {},
   "source": [
    "### 1.6 (2 point)\n",
    "$f(A,X) = \\sum_{i=1}^{100} (\\frac{1}{3x_i + e^{-b_ix_i}})$  \n",
    "where $A = (a_1, ..., a_{100})$ and $X = (x_1, ..., x_{100})$  (You can give expression of $\\frac{d}{dx_i} f(A,X)$ and $\\frac{d}{da_i} f(A,X)$)"
   ]
  },
  {
   "cell_type": "markdown",
   "id": "01b30441-98c1-41cc-b93a-7c0c1611da93",
   "metadata": {},
   "source": [
    "### 1.7  Loss Functions (2 + 2 points)\n",
    "Mammography is one of the most effective method for breast cancer screening. However, the low positive predictive value of breast biopsy resulting from mammogram interpretation might lead to unnecessary biopsies with benign outcomes. To reduce the high number of unnecessary breast biopsies, you have been assigned to develop a machine learning model that will act as a computer-aided diagnosis (CAD) system. \n",
    "\n",
    "To help physicians in their decision to perform a breast biopsy on a suspicious lesion or to perform a short term follow-up examination, your model should identify the mammographic mass lesion as Benign(0)/Malign(1) given its BI-RADS attributes\n"
   ]
  },
  {
   "cell_type": "markdown",
   "id": "1977f219-30da-4744-a48c-8632272afb90",
   "metadata": {},
   "source": [
    "#### 1.7a What kind of supervised learning problem would you consider? Express your model's probability for one observation $p(y|x)$? Give expression of log probability as well"
   ]
  },
  {
   "cell_type": "markdown",
   "id": "30810f77-bd76-4b5a-b939-42b442a56136",
   "metadata": {},
   "source": [
    "#### 1.7b You want to design a loss function that prefers the correct output of the training examples to be more likely. \n",
    "\n",
    "#### Derive a loss function that would allow you to choose parameters $w,b$ of your model that maximize a likelihood that does that. Give explaination would such a loss function be good choice in terms of parameter updation.\n",
    "\n",
    "*Hint:* Think about the expression from the previous part."
   ]
  },
  {
   "cell_type": "markdown",
   "id": "894671bb-de6b-42be-a42d-b941c52f5511",
   "metadata": {},
   "source": [
    "---\n",
    "## Question 2: Solving Linear Regression via Mean Squared Error (MSE) Optimization Problem (34 points)"
   ]
  },
  {
   "cell_type": "markdown",
   "id": "3f389622-edaf-4de4-99cd-00229d2e2f1c",
   "metadata": {},
   "source": [
    "Imagine that you have measured two variables $X$ and $Y$ for a simple task, and you believe that they might be linearly related to each other. Here, our input $X$ has 2 dimensions, and the output $Y$ has 1 dimension. We will use super-script to indicate which sample it is, and sub-script to indicate which dimension it is. \n",
    "The measurements are as follows:\n",
    "\n",
    "(Training data $D = \\{(X^1, Y^1), (X^2, Y^2), (X^3, Y^3)\\}$)\n",
    "\n",
    "Sample 1: $X^1 = (x_1^1, x_2^1) = (1, 1), Y^1$ = 2  \n",
    "Sample 2: $X^2 = (x_1^2, x_2^2) = (1, 2), Y^2$ = 4  \n",
    "Sample 3: $X^3 = (x_1^3, x_2^3) = (2, 2), Y^3$ = 5  \n",
    "\n",
    "If we assume that the relationship between $X$ and $Y$ is linear, we can write this relationship as:  \n",
    "$$Y = f_{W,B}(X) = WX + B = w_1*x_1 + w_2*x_2 + B$$\n",
    "where $W = (w_1, w_2)$ and $B$ are the parameters of the model.\t\n",
    "We are interested in finding best values for $W$ and $B$.\t\n",
    "We define 'best' in terms of a loss function between $f_{W,B}(X_i)$ and $Y_i$ for each ($X_i$ and $Y_i$) in the training data. \t\n",
    "Since $Y_i$s are real numbers, let's consider Mean Squared Error loss. \n",
    "\n",
    "Remember that Mean Squared Error for this function, over training data, and W and B is:\n",
    "$$MSELoss(D={(X^1, Y^1), (X^2, Y^2), (X^3, Y^3)}), W, B) = \\frac{1}{3}\\sum_{i=1}^{3} (f_{W,B}(X^i) - Y^i)^2 $$"
   ]
  },
  {
   "cell_type": "markdown",
   "id": "de7d7731-0031-4bd8-bc36-cbd5987222ee",
   "metadata": {},
   "source": [
    "### 2.1 (3 points)\n",
    "Compute the partial derivative of $MSELoss(D, W, B)$, With respect to $W$ and $B$.  \n",
    "Remember that $X^1$, $X^2$, $X^3$, $Y^1$, $Y^2$, and $Y^3$ are constants, and already given to us as training data above.\n",
    "\n",
    "$\\frac{d}{d w_1} MSELoss(D, W, B) = \\:?$\n",
    "\n",
    "$\\frac{d}{d w_2} MSELoss(D, W, B) = \\:?$\n",
    "\n",
    "$\\frac{d}{d B} MSELoss(D, W, B) =  \\:?$"
   ]
  },
  {
   "cell_type": "markdown",
   "id": "11621e7a-7450-42f5-9b5f-73efc70e8033",
   "metadata": {},
   "source": [
    "### 2.2 (4 points)\n",
    "With $w_1 = 0.1$ , $w_2 = 0.1$ and $B = 0.1$, check if the analytical solution of partial derivative you derived above match the solution of using pytorch autograd. See https://pytorch.org/tutorials/beginner/blitz/autograd_tutorial.html for how to use pytorch autograd to get gradient of any general objective function."
   ]
  },
  {
   "cell_type": "code",
   "execution_count": null,
   "id": "4e79fbaa-8f57-492a-9601-1e889e877550",
   "metadata": {},
   "outputs": [],
   "source": []
  },
  {
   "cell_type": "markdown",
   "id": "44bf3673-f1d7-4e90-82f6-f70ae99ca148",
   "metadata": {},
   "source": [
    "### 2.3 (3 points)\n",
    "Use matplotlib library and plot $\\frac{d}{d w_1} MSELoss(D, W, B)$ for $w_1 = $ `np.arange(0, 5, 0.5)`, $w_2 = 4$, and $B = -2$."
   ]
  },
  {
   "cell_type": "code",
   "execution_count": null,
   "id": "695c1821-9d44-4b86-b92a-cfe9333be699",
   "metadata": {},
   "outputs": [],
   "source": [
    "import matplotlib.pyplot as plt\n",
    "import numpy as np\n",
    "w1 = np.arange(0, 5, 0.5)\n",
    "\n",
    "# plot dMSELoss/dw1 here:"
   ]
  },
  {
   "cell_type": "markdown",
   "id": "f01644c6-4470-4811-808c-bda4b79e5c5e",
   "metadata": {},
   "source": [
    "### 2.4 (4 points)\n",
    "What values of $w_1$, $w_2$ and $B$, make all partial derivatives zero?"
   ]
  },
  {
   "cell_type": "markdown",
   "id": "747cbd26-58d9-4cd0-a13d-0550deb63077",
   "metadata": {},
   "source": [
    "### 2.5 (10 points) \n",
    "If you start from an initial point $w_1^0 = 0.1$ , $w_2^0 = 0.1$ and $B^0 = 0.1$, and iteratively update your $w_1$, $w_2$, and B via gradient descent as follows:\n",
    "\n",
    "$$\n",
    "\\begin{aligned}\n",
    "w_1^{t+1} &= w_1^t - 0.01 * \\frac{d}{d w_1} MSELoss(D, W, B) |_{w_1^t,w_2^t,B^t}\t\\\\\n",
    "w_2^{t+1} &= w_2^t - 0.01 * \\frac{d}{d w_2} MSELoss(D, W, B) |_{w_1^t,w_2^t,B^t}\t\\\\\n",
    "B^{t+1} &= B^t - 0.01 * \\frac{d}{d B} MSELoss(D, W, B) |_{w_1^t,w_2^t,B^t}\n",
    "\\end{aligned}\n",
    "$$\n",
    "\n",
    "(Note: This is gradient descent with a 0.01 learning rate.)\n",
    "\n",
    "What are the values of $W$s and $B$ over iterations 0 to 2000? Write a Python script that computes these values for 2000 iterations, i.e. lists of $\\{w_1^0, w^1_1,.., w_1^{2000}\\}$, $\\{w_2^0, w_2^1,.., w_2^{2000}\\}$, and $\\{B^0, B^1,.., B^{2000}\\}$.\t\n",
    "Plot the lists of $w_1$s, $w_2$s and Bs over 2000 iterations."
   ]
  },
  {
   "cell_type": "markdown",
   "id": "d22c4bff-a1a8-49de-8aa6-5137fb75b65f",
   "metadata": {},
   "source": [
    "### 2.6 (10 points)\n",
    "Now that you learned the math and made the code yourself, we will use pytorch and automatic differentiation, to find optimal $W$ and $B$!\t\n",
    "Again, consider data to be $D = \\{(X_1, Y_1), (X_2, Y_2), (X_3, Y_3)\\}) = \\{((1,1), 2), ((1,2), 4), ((2,2), 5)\\}$.\n",
    "\n",
    "Some of your steps are here. Fill in the rest and show a plot of the loss function, $w_1$, $w_2$ and B over these 2000 epochs."
   ]
  },
  {
   "cell_type": "code",
   "execution_count": null,
   "id": "526f9f3f-6e5d-4654-b9c7-8fc2b14b357d",
   "metadata": {},
   "outputs": [],
   "source": [
    "import torch\n",
    "import torch.nn as nn\n",
    "import numpy as np\n",
    "from torch import optim\n",
    "from torch.autograd import Variable\n",
    "\n",
    "D = [((1,1), 2), ((1,2), 4), ((2,2),5)]\n",
    "X = [d[0] for d in D]\n",
    "Y = [d[1] for d in D]\n",
    "print('data X is:', X)\n",
    "print('data Y is:', Y)\n",
    "\n",
    "model = torch.nn.Linear(2, 1, bias=True)\n",
    "optimizer = optim.SGD(model.parameters(), lr=0.01)\n",
    "loss = torch.nn.MSELoss()\n",
    "\n",
    "losslist = []\n",
    "w1list = []\n",
    "w2list = []\n",
    "blist = []\n",
    "\n",
    "\n",
    "# for epoch in range(10):\n",
    "    # Shuffle your training data samples\n",
    "    # Loop over your training data in the new order:\n",
    "        #dont forget to: optimizer.zero_grad()\n",
    "        #prepare your x_input and y_target if needed\n",
    "        #send the data through your model: i.e. pred_i = model(x_input)\n",
    "        #send the prediction through the loss function too: i.e. lossout= loss(pred_i, y_target)\n",
    "        #call backward to back-propagate: i.e. lossout.backward()\n",
    "        #call optimizer.step() to update the model parameters based on the computed gradients\n",
    "        #keep the w1s, w2s, and bs, and loss value some list so you can plot them later\n",
    "\n",
    "#plot the losslist, w1s, w2s, and bs."
   ]
  },
  {
   "cell_type": "markdown",
   "id": "2f632c43-f421-48d2-955e-308a34712818",
   "metadata": {},
   "source": [
    "---\n",
    "# Question 3: Learning Curves, Overfitting, and Machine Learning (50 points + Bonus)\n",
    "\n",
    "Now we know how to optimize, let's get some real machine learning done!\t\n",
    "\n",
    "Instead of the small dataset we had in questions 2, now let's use the the CBIS-DDSM (Curated Breast Imaging Subset of DDSM) dataset from <a href=\"https://wiki.cancerimagingarchive.net/display/Public/CBIS-DDSM#385f2cd4e86f4142b1d32bdb5803bd96\"> here</a>.\n",
    "\n",
    "\n",
    "In this homework, we will *only* focus on the following items in the dataset:\t\n",
    "- **Mass-Training-Description (csv)**\t\n",
    "- **Mass-Test-Description (csv)**\t\n",
    "\n",
    "You can also find these two csvs in the same folder as this notebook. \n",
    "\n",
    "This dataset contains several features related to Mammography and detection of breast cancer. \n",
    "\n",
    "The **Mass-Training-Description** and **Mass-Test-Description** include many columns but we are interested in following input variables only:\n",
    "\n",
    "- `mass shape`\n",
    "- `mass margins`\n",
    "- `left or right breast`\n",
    "- `abnormality type`\n",
    "- `abnormality id`\n",
    "- `breast_density`\n",
    "- `image view`\n",
    "\n",
    "How well can we predict the **pathology type**?\n"
   ]
  },
  {
   "cell_type": "markdown",
   "id": "c7e77c3c-39df-48b6-82ec-f10c0de5bc64",
   "metadata": {},
   "source": [
    "### 3.1 (5 points) Preparing data\n",
    "\n",
    "Read the data and map to a form of $(X,Y)$\n",
    "\n",
    "i.e. matrix $X$ and a vector $Y$, where each row of $X=(x_1,x_2,\\ldots,x_i)$ are input variables of a patient, and each row of $Y=(y_1,y_2,\\ldots,y_i)$ is the pathology type class, for that patient. \n",
    "\n",
    "Map your categorical string to an Indicator variable. Are your classes balanced? Pandas has a neat functionalities for both these use cases."
   ]
  },
  {
   "cell_type": "markdown",
   "id": "01d4b82a-a1fa-4a13-8055-07951bca9d44",
   "metadata": {},
   "source": [
    "### 3.2 (5 points) Preparing dataset\n",
    "\n",
    "Map the $(X,Y)$ to a mini-batch setting coherent with `torch.utils.data.Dataset` and `torch.utils.data.Dataset`."
   ]
  },
  {
   "cell_type": "code",
   "execution_count": null,
   "id": "16e3b6bc-55b4-45f5-9040-e7c45b98484b",
   "metadata": {},
   "outputs": [],
   "source": [
    "import torch\n",
    "import torch.nn as nn\n",
    "import torch.nn.functional as F\n",
    "import numpy as np\n",
    "from torch import optim\n",
    "from torch.utils.data import Dataset,DataLoader\n",
    "from tqdm import trange\n",
    "import itertools    \n",
    "from sklearn.metrics import  confusion_matrix, roc_curve, auc"
   ]
  },
  {
   "cell_type": "code",
   "execution_count": null,
   "id": "da293117-e6f7-41aa-ab7e-e7ce518820a3",
   "metadata": {},
   "outputs": [],
   "source": [
    "class CBISDataset(Dataset):\n",
    "    \n",
    "    def __init__(self, X, Y):\n",
    "        # Complete the method\n",
    "        \n",
    "   # Complete the class"
   ]
  },
  {
   "cell_type": "code",
   "execution_count": null,
   "id": "6e132cce-f8f2-4a46-a1ce-f28a7dd38a95",
   "metadata": {},
   "outputs": [],
   "source": [
    "# Complete code here\n",
    "train_dataset = CBISDataset(, )\n",
    "test_dataset = CBISDataset(, )"
   ]
  },
  {
   "cell_type": "markdown",
   "id": "1fd78652-f6bd-4487-8291-d41d10d5a154",
   "metadata": {},
   "source": [
    "What are the input and output dimensions of your data?"
   ]
  },
  {
   "cell_type": "code",
   "execution_count": null,
   "id": "859805ac-79b6-41a9-a979-548e0461a6e8",
   "metadata": {},
   "outputs": [],
   "source": []
  },
  {
   "attachments": {
    "76c7df9d-5576-4a9c-a172-008ff29a9b68.png": {
     "image/png": "[encoded data removed]"
    }
   },
   "cell_type": "markdown",
   "id": "5908963f-b40a-47dc-b2d2-aa4698d0f44e",
   "metadata": {},
   "source": [
    "### 3.3 Multilayer perceptron (5 points)\n",
    "\n",
    "Design a multilayer perceptron (MLP) with 2 hidden full connected layer apart from input layer. Use `ReLU` non-linearity as intermediate non-linearity. Please see diagram below:\n",
    "\n",
    "![image.png](attachment:76c7df9d-5576-4a9c-a172-008ff29a9b68.png)"
   ]
  },
  {
   "cell_type": "code",
   "execution_count": null,
   "id": "a49ec1c2-8928-4668-975b-51f347d58353",
   "metadata": {},
   "outputs": [],
   "source": [
    "class Network(nn.Module):\n",
    "    \n",
    "    # Complete the code cell\n",
    "    def __init__(self):\n",
    "        super(Network, self).__init__()\n",
    "        "
   ]
  },
  {
   "cell_type": "markdown",
   "id": "28c7347f-8e15-4430-81e3-5264f00e482a",
   "metadata": {
    "scrolled": true
   },
   "source": [
    "### 3.4 Implement the train function (15 points) \n",
    "\n",
    "- Followed by training the network for training for 1000 epochs and batch size of 100 samples.\n",
    "- Collect average train loss over each epoch for all batch iterations. \n",
    "- Plot training Loss"
   ]
  },
  {
   "cell_type": "code",
   "execution_count": null,
   "id": "a7de0ad7-06de-4ec5-b9b8-985ca51d555f",
   "metadata": {},
   "outputs": [],
   "source": [
    "def train_fn(model, train_loader, optimizer, criterion):\n",
    "    # Code the function\n",
    "    # Return average loss for the epoch\n",
    "    model.train()\n",
    "    losses = []"
   ]
  },
  {
   "cell_type": "markdown",
   "id": "1d602808-7dc1-4e41-a87a-1605352ea424",
   "metadata": {},
   "source": [
    "1. Create dataloaders to feed your network. You need to reshuffle your training samples for each epoch.\n",
    "2. Train your network using following specifications:\n",
    "    - `learning rate`: $10^{-2}$\n",
    "    - `Optimizer`: SGD \n",
    "    - `Loss Function`: CrossEntropyLoss  \n",
    "    - `Batch Size`: 100"
   ]
  },
  {
   "cell_type": "code",
   "execution_count": null,
   "id": "6e5f266b-d6d9-4288-8e28-d296cb7188f5",
   "metadata": {},
   "outputs": [],
   "source": [
    "# Complete code here\n",
    "BATCH_SIZE = \n",
    "train_dataloader = DataLoader(, batch_size = BATCH_SIZE, )\n",
    "test_dataloader = DataLoader(, batch_size = BATCH_SIZE, )"
   ]
  },
  {
   "cell_type": "code",
   "execution_count": null,
   "id": "f76c79b0-1f24-4453-86df-d88eadb67d76",
   "metadata": {},
   "outputs": [],
   "source": [
    "model = \n",
    "optimizer = \n",
    "criterion = \n",
    "NUM_EPOCHS = \n",
    "avg_losses = []\n",
    "for epoch in trange(1, NUM_EPOCHS+1):\n",
    "    loss = train_fn(model, train_dataloader, optimizer, criterion)\n",
    "    if not epoch % 100:\n",
    "        print(f\"Average training loss for epoch {epoch}: {loss}\")\n",
    "    avg_losses.append(loss)"
   ]
  },
  {
   "cell_type": "markdown",
   "id": "ce0a1c85-175c-4aa2-8515-0733eddb678d",
   "metadata": {},
   "source": [
    "Plot *loss vs epoch* curve using the `losses` array:"
   ]
  },
  {
   "cell_type": "markdown",
   "id": "b968990d-7ca1-406f-b3ea-93b6d4424444",
   "metadata": {},
   "source": [
    "### 3.5 Implement the test function (10 points) \n",
    "\n",
    "- Evaluate your model over test data. \n",
    "- Show confusion matrix and AUROC Curve (Class wise) for both test data"
   ]
  },
  {
   "cell_type": "code",
   "execution_count": null,
   "id": "c34edbad-d0c5-4c36-b6be-069f534c086d",
   "metadata": {},
   "outputs": [],
   "source": [
    "def plot_confusion_matrix(cm, classes,\n",
    "                          normalize=False,\n",
    "                          title='Confusion matrix',\n",
    "                          cmap=plt.cm.Blues):\n",
    "    \"\"\"\n",
    "    This function prints and plots the confusion matrix.\n",
    "    Normalization can be applied by setting `normalize=True`.\n",
    "    \"\"\"\n",
    "    if normalize:\n",
    "        cm = cm.astype('float') / cm.sum(axis=1)[:, np.newaxis]\n",
    "        print(\"Normalized confusion matrix\")\n",
    "    else:\n",
    "        print('Confusion matrix, without normalization')\n",
    "\n",
    "    print(cm)\n",
    "\n",
    "    plt.imshow(cm, interpolation='nearest', cmap=cmap)\n",
    "    plt.title(title)\n",
    "    plt.colorbar()\n",
    "    tick_marks = np.arange(len(classes))\n",
    "    plt.xticks(tick_marks, classes, rotation=45)\n",
    "    plt.yticks(tick_marks, classes)\n",
    "\n",
    "    fmt = '.2f' if normalize else 'd'\n",
    "    thresh = cm.max() / 2.\n",
    "    for i, j in itertools.product(range(cm.shape[0]), range(cm.shape[1])):\n",
    "        plt.text(j, i, format(cm[i, j], fmt),\n",
    "                 horizontalalignment=\"center\",\n",
    "                 color=\"white\" if cm[i, j] > thresh else \"black\")\n",
    "\n",
    "    plt.tight_layout()\n",
    "    plt.ylabel('True label')\n",
    "    plt.xlabel('Predicted label')\n",
    "\n",
    "# Compute confusion matrix\n",
    "def cm(y_true, y_pred):\n",
    "    cnf_matrix = confusion_matrix(y_true, y_pred)\n",
    "    np.set_printoptions(precision=2)\n",
    "    plt.figure()\n",
    "    class_names = ['0: BENIGN','1: BENIGN_WC','2: MALIGNANT']\n",
    "    plot_confusion_matrix(cnf_matrix, classes=class_names,\n",
    "                          title='Confusion matrix')"
   ]
  },
  {
   "cell_type": "code",
   "execution_count": null,
   "id": "b674387c-2c3f-4fe1-849b-c24ddb533ed7",
   "metadata": {},
   "outputs": [],
   "source": [
    "def test(model, test_loader, loss_criterion):\n",
    "    correct = 0\n",
    "    loss = 0.0\n",
    "    model.eval()\n",
    "    y_pred = []\n",
    "    y_true = []\n",
    "    # Complete the function\n",
    "    \n",
    "    \n",
    "    return loss, correct, y_true, y_pred"
   ]
  },
  {
   "cell_type": "code",
   "execution_count": null,
   "id": "82b5c206-3bae-47ca-be9a-1060d8020be8",
   "metadata": {},
   "outputs": [],
   "source": [
    "test_criterion = \n",
    "loss, correct, y_true, y_pred = test(model, test_dataloader ,test_criterion)"
   ]
  },
  {
   "cell_type": "code",
   "execution_count": null,
   "id": "b97b21ea-94d9-4704-9e50-099599a37926",
   "metadata": {},
   "outputs": [],
   "source": [
    "# Call method to plot confusion matrix\n",
    "cm(y_true, y_pred)"
   ]
  },
  {
   "cell_type": "markdown",
   "id": "8652e10e-3aa7-4d59-8464-71a19d9c12f1",
   "metadata": {},
   "source": [
    "### 3.6 Logistic Regression (10 points)\n",
    "\n",
    "- Train a multi-class logistic regression model (in PyTorch) and compare its performance to MLP."
   ]
  },
  {
   "cell_type": "code",
   "execution_count": null,
   "id": "519c339b-70ce-4f23-992b-2ef42d8ac553",
   "metadata": {},
   "outputs": [],
   "source": [
    "class LogisticReg(nn.Module):\n",
    "    # Complete the class"
   ]
  },
  {
   "cell_type": "code",
   "execution_count": null,
   "id": "1f40a546-8a23-4f04-9ad5-fc11568ac1f9",
   "metadata": {},
   "outputs": [],
   "source": [
    "logreg_model = \n",
    "optimizer = \n",
    "criterion = \n",
    "NUM_EPOCHS = \n",
    "\n",
    "avg_losses = []\n",
    "for epoch in trange(1, NUM_EPOCHS+1):\n",
    "    loss = train_fn(,,,)\n",
    "    if not epoch % 100:\n",
    "        print(f\"Average training loss for epoch {epoch}: {loss}\")\n",
    "    avg_losses.append(loss)"
   ]
  },
  {
   "cell_type": "code",
   "execution_count": null,
   "id": "6cefb7e1-4b55-49dc-94c1-e7b319b5d113",
   "metadata": {},
   "outputs": [],
   "source": [
    "test_criterion = \n",
    "loss, correct, y_true, y_pred = test(,,,)"
   ]
  },
  {
   "cell_type": "code",
   "execution_count": null,
   "id": "9f2043fd-1aa4-4b4c-995f-61fb63a83b3e",
   "metadata": {},
   "outputs": [],
   "source": [
    "cm(y_true, y_pred)"
   ]
  },
  {
   "cell_type": "markdown",
   "id": "119852b6-77fb-4a8e-97e1-160bfe74c4ca",
   "metadata": {},
   "source": [
    "### Bonus (10 points)\n",
    "\n",
    "- Compare your training and test performance. Is your model trained properly? Suggest methods to improve its performance.\n",
    "\n",
    "- For the assignment, you used SGD as the optimization function, Try [different optimizer](https://pytorch.org/docs/stable/optim.html) from PyTorch. Give sufficient reasoning if you observe any difference in performance and explanation on its working."
   ]
  },
  {
   "cell_type": "code",
   "execution_count": null,
   "id": "f83901ae-bebd-4232-b9a5-4f528835ddbb",
   "metadata": {},
   "outputs": [],
   "source": []
  }
 ],
 "metadata": {
  "kernelspec": {
   "display_name": "Python 3 (ipykernel)",
   "language": "python",
   "name": "python3"
  },
  "language_info": {
   "codemirror_mode": {
    "name": "ipython",
    "version": 3
   },
   "file_extension": ".py",
   "mimetype": "text/x-python",
   "name": "python",
   "nbconvert_exporter": "python",
   "pygments_lexer": "ipython3",
   "version": "3.9.21"
  }
 },
 "nbformat": 4,
 "nbformat_minor": 5
}
